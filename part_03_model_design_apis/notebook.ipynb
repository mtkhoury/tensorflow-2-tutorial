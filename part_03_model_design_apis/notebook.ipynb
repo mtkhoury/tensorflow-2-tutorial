{
 "nbformat": 4,
 "nbformat_minor": 0,
 "metadata": {
  "colab": {
   "name": "part_03_notebook.ipynb",
   "provenance": [],
   "collapsed_sections": [],
   "toc_visible": true,
   "include_colab_link": true
  },
  "kernelspec": {
   "name": "python3",
   "display_name": "Python 3"
  },
  "accelerator": "GPU"
 },
 "cells": [
  {
   "cell_type": "markdown",
   "metadata": {
    "id": "view-in-github",
    "colab_type": "text"
   },
   "source": [
    "<a href=\"https://colab.research.google.com/github/iust-deep-learning/tensorflow-2-tutorial/blob/master/part_03_model_design_apis/notebook.ipynb\" target=\"_parent\"><img src=\"https://colab.research.google.com/assets/colab-badge.svg\" alt=\"Open In Colab\"/></a>"
   ]
  },
  {
   "cell_type": "markdown",
   "metadata": {
    "id": "YS8LoLU0OQha",
    "colab_type": "text"
   },
   "source": [
    "# Tensorflow 2.0 Tutorial: Part #3 Model Design APIs\n",
    "\n",
    "\n",
    "TensorFlow 2.0 Tutorial by IUST\n",
    "*   Last Update: April 2020\n",
    "*   Official Page: https://github.com/iust-deep-learning/tensorflow-2-tutorial\n",
    "\n",
    "\n",
    "\n",
    "\n",
    "\n",
    "---\n",
    "\n",
    "\n"
   ]
  },
  {
   "cell_type": "markdown",
   "metadata": {
    "id": "gSj39l8gcIA8",
    "colab_type": "text"
   },
   "source": [
    "Please run the following cell before going through the rest of the tutorial."
   ]
  },
  {
   "cell_type": "code",
   "metadata": {
    "id": "RFC1dEyMcFq2",
    "colab_type": "code",
    "cellView": "both",
    "colab": {}
   },
   "source": [
    "from __future__ import absolute_import, division, print_function, unicode_literals\n",
    "\n",
    "# Install TensorFlow\n",
    "try:\n",
    "  # %tensorflow_version only exists in Colab.\n",
    "  %tensorflow_version 2.x\n",
    "except Exception:\n",
    "  pass\n",
    "\n",
    "import tensorflow as tf\n",
    "import numpy as np\n",
    "\n",
    "from pprint import pprint"
   ],
   "execution_count": 1,
   "outputs": []
  },
  {
   "cell_type": "markdown",
   "metadata": {
    "id": "vqepvCCll07n",
    "colab_type": "text"
   },
   "source": [
    "---\n",
    "\n",
    "Tensorflow 2 provides an extensive set of APIs for designing models: less-flexible yet easier-to-use APIs for machine learning engineers, and highly-configurable APIs for researchers. In this part, we will take a look at all these kinds of APIs and learn when to use them. Keras is Tensorflow's main high-level APIs. As you may know, Keras itself is a standalone framework that unifies Deep Learning model designs. However, Tensorflow has its own version of Keras called `tf.keras`. Before going any further, let's see how this customized compared to the original one:\n",
    "\n",
    "- `tf.keras` is a re-implementation of the Keras API.\n",
    "- `tf.keras` has much better integration with the rest of Tensorflow framework.\n",
    "- Distributed training is much easier in `tf.keras`.\n",
    "- `tf.keras` supports Eager execution (dynamic graph).\n",
    "- There is no one-to-one relation. but, most of the useful stuffs are also present in Tensorflow.\n",
    "\n",
    "So, let's explore the tf.keras package and see what it offers:\n",
    "- Keras API (tf.keras.*)\n",
    "  - **Engine**: model training and evaluation loop\n",
    "    - **Base Layer, Base Model, Sequential**: primary model designing apis\n",
    "  - **Layers**: various subclasses of Base Layer\n",
    "  - **Losses, Metrics**\n",
    "  - **Callbacks**\n",
    "  - **Optimizers**\n",
    "  - **Regularizes, Constraints**\n",
    "- `tf.Module()`: Base neural network module class that only tracks `tf.Variable` recursively. \n",
    "\n",
    "\n"
   ]
  },
  {
   "cell_type": "markdown",
   "metadata": {
    "colab_type": "text",
    "id": "eGHQmDwsZhWh"
   },
   "source": [
    "## Sequential APIs\n",
    "\n",
    "---\n",
    "\n"
   ]
  },
  {
   "cell_type": "markdown",
   "metadata": {
    "id": "r23PFXZIN2ph",
    "colab_type": "text"
   },
   "source": [
    "The sequential APIs are the easiest and most straightforward way of defining models. You can simply build your desired model by stacking a bunch of layers. Here is an example 3-layer MLP network:"
   ]
  },
  {
   "cell_type": "code",
   "metadata": {
    "id": "bXBkzchbOS8U",
    "colab_type": "code",
    "colab": {}
   },
   "source": [
    "import tensorflow as tf \n",
    "from tensorflow.keras import layers\n",
    "\n",
    "# Using model.add(a layer instance)\n",
    "model = tf.keras.Sequential()\n",
    "model.add(layers.Dense(32, activation='relu', input_shape=(784,)))\n",
    "model.add(layers.Dense(128, activation='relu'))\n",
    "model.add(layers.Dense(10, activation='softmax'))\n",
    "\n",
    "# Passing a list of layer instances\n",
    "model = tf.keras.Sequential([\n",
    "    layers.Dense(32, activation='relu', input_shape=(784,)),\n",
    "    layers.Dense(128, activation='relu'),\n",
    "    layers.Dense(10, activation='softmax')\n",
    "])"
   ],
   "execution_count": 3,
   "outputs": []
  },
  {
   "cell_type": "code",
   "metadata": {
    "id": "R9Bi5cdCrehw",
    "colab_type": "code",
    "outputId": "2fe99ec2-4318-447d-e432-917d9417ed2b",
    "colab": {
     "base_uri": "https://localhost:8080/",
     "height": 221
    }
   },
   "source": [
    "# Fake input\n",
    "bs = 5\n",
    "inp = tf.random.normal(shape=[bs, 784])\n",
    "\n",
    "# Run the model\n",
    "out = model(inp)\n",
    "out"
   ],
   "execution_count": 5,
   "outputs": [
    {
     "name": "stdout",
     "output_type": "stream",
     "text": [
      "tf.Tensor(\n",
      "[[ 0.1835451  -0.7775699   0.15092686 ... -0.25899363 -0.5287422\n",
      "   0.51531637]\n",
      " [ 0.34007552  1.1702348   1.760076   ... -0.80389607 -0.01894328\n",
      "  -0.89480495]\n",
      " [-0.93644583  0.06893877  2.140226   ... -2.4286962  -1.9798523\n",
      "   0.661508  ]\n",
      " [ 0.06677883  0.36382246 -1.107961   ... -1.0095444   0.20375147\n",
      "  -0.12687136]\n",
      " [ 0.295682    0.35101932 -0.69322985 ... -0.998467    1.7457317\n",
      "  -0.6020045 ]], shape=(5, 784), dtype=float32)\n"
     ]
    },
    {
     "data": {
      "text/plain": "<tf.Tensor: shape=(5, 10), dtype=float32, numpy=\narray([[0.12485915, 0.01425457, 0.14328976, 0.02843558, 0.11779343,\n        0.00934672, 0.21577916, 0.04457004, 0.08590947, 0.21576212],\n       [0.14512375, 0.04468425, 0.07557437, 0.03632522, 0.10178416,\n        0.03272954, 0.28323174, 0.10029256, 0.11287034, 0.06738409],\n       [0.17544995, 0.10137843, 0.07032145, 0.05676921, 0.05172323,\n        0.03094214, 0.13278732, 0.1031968 , 0.11838213, 0.15904938],\n       [0.11197927, 0.10580442, 0.10403389, 0.02726093, 0.05708   ,\n        0.04515483, 0.20445606, 0.12134702, 0.08627705, 0.13660654],\n       [0.11261351, 0.06402337, 0.14577892, 0.04044956, 0.11537381,\n        0.03289075, 0.14910546, 0.0694303 , 0.09180532, 0.17852901]],\n      dtype=float32)>"
     },
     "execution_count": 5,
     "metadata": {},
     "output_type": "execute_result"
    }
   ]
  },
  {
   "cell_type": "markdown",
   "metadata": {
    "id": "Y-ZgZ9XfOXUS",
    "colab_type": "text"
   },
   "source": [
    "Although it is correct that you can stack up layers using the sequential API, the sequential API is a way of defining a sequence of computation (similar to Computation Graph) in which every building block of this sequence is a layer. For example, you can create a seq2seq model by connecting two blocks: encoder and decoder. In this case, we are not stacking up layers in theory (since stacking decoder on top of the encoder is not meaningful); we are just connecting the output of the encoder to the input of the decoder i.e., creating a computation graph.\n",
    "\n",
    "Here are the common parameters in defining layers:"
   ]
  },
  {
   "cell_type": "code",
   "metadata": {
    "id": "-Z3H37UAR_KH",
    "colab_type": "code",
    "colab": {}
   },
   "source": [
    "# Change the activation function (optional)\n",
    "layers.Dense(64, activation='sigmoid')\n",
    "\n",
    "# A linear layer: h = W.x + b\n",
    "\n",
    "# Set the kernel (W) initializer. Default value: glorot_uniform layers.Dense(64, kernel_initializer='orthogonal')\n",
    "# Set the bias (b) initializer. Default value: zeros\n",
    "layers.Dense(64, bias_initializer='random_uniform_initializer')\n",
    "\n",
    "# Set the kernel regularizer\n",
    "layers.Dense(64, kernel_regularizer=tf.keras.regularizers.l1(0.01))\n",
    "# Set the bias regularizer\n",
    "layers.Dense(64, bias_regularizer=tf.keras.regularizers.l2(0.01))\n",
    "\n",
    "\n",
    "## Also, you can use tf.keras.* names\n",
    "\n",
    "# Change the activation function (optional)\n",
    "layers.Dense(64, activation=tf.keras.activations.sigmoid) \n",
    "\n",
    "# A linear layer: h = W.x + b\n",
    "\n",
    "# Set the kernel (W) initializer. Default value: glorot_uniform\n",
    "layers.Dense(64,\n",
    "      kernel_initializer=tf.keras.initializers.GlorotUniform())\n",
    "# Set the bias (b) initializer. Default value: zeros\n",
    "layers.Dense(64,\n",
    "      bias_initializer=tf.keras.initializers.RandomUniform())\n",
    "\n",
    "# Set the kernel regularizer\n",
    "layers.Dense(64, kernel_regularizer=tf.keras.regularizers.l1(0.01))\n",
    "# Set the bias regularizer\n",
    "layers.Dense(64, bias_regularizer=tf.keras.regularizers.l2(0.01))"
   ],
   "execution_count": 0,
   "outputs": []
  },
  {
   "cell_type": "markdown",
   "metadata": {
    "id": "46KZpdiknfOC",
    "colab_type": "text"
   },
   "source": [
    "### The Layer Concept\n"
   ]
  },
  {
   "cell_type": "markdown",
   "metadata": {
    "id": "-ik5PqzwTjej",
    "colab_type": "text"
   },
   "source": [
    "Before continuing to the next section, let's see what these layers actually (building block) are! Layers are primarily resposible for following tasks:\n",
    "\n",
    "- Computation from a batch of inputs to a batch of outputs.\n",
    "- Manages state (trainable weights, non-trainable weights).\n",
    "- Tracks losses and metrics.\n",
    "- Automated compatibility checks (static shape inference).\n",
    "- Can be frozen (useful in fine-tuning and Transfer Learning).\n",
    "- Can be serialized and deserialized (useful for storing the model).\n",
    "\n",
    "We will discuss implementing a custom layer in next few sections.\n",
    "\n",
    "\n"
   ]
  },
  {
   "cell_type": "markdown",
   "metadata": {
    "id": "Dxzg-_FinI4r",
    "colab_type": "text"
   },
   "source": [
    "## Functional APIs\n",
    "---"
   ]
  },
  {
   "cell_type": "markdown",
   "metadata": {
    "id": "cC2MTQeUYIPW",
    "colab_type": "text"
   },
   "source": [
    "<p align=\"center\">\n",
    "<img src=\"https://imgur.com/download/YUOgCeS\" width=\"800\" />\n",
    "<br/>\n",
    "<a href=\"https://arxiv.org/pdf/1602.07261.pdf\">Szegedy et al.</a>\n",
    "</p>\n",
    "\n",
    "The functional API provides a more sophisticated way to define the computation graph such a DAG (Directed Acyclic Graph). Sequential API was limited so that you could only sequentially assemble the graph. For example, if you wanted to use the output of a layer in two others, you were limited. Functional API solves this. Here is the previous example using the functional API:"
   ]
  },
  {
   "cell_type": "code",
   "metadata": {
    "id": "nU8atDOcbXnw",
    "colab_type": "code",
    "colab": {}
   },
   "source": [
    "import tensorflow as tf \n",
    "from tensorflow.keras import layers\n",
    "\n",
    "\n",
    "inputs = tf.keras.Input(shape=(784,))\n",
    "\n",
    "x = layers.Dense(64, activation='relu')(inputs)\n",
    "x = layers.Dense(64, activation='relu')(x)\n",
    "outputs = layers.Dense(10, activation='softmax')(x)\n",
    "\n",
    "model = tf.keras.Model(inputs=inputs, outputs=outputs)"
   ],
   "execution_count": 6,
   "outputs": []
  },
  {
   "cell_type": "markdown",
   "metadata": {
    "id": "EsqwBJ4wcA7J",
    "colab_type": "text"
   },
   "source": [
    "Get a summary of the model you've just created"
   ]
  },
  {
   "cell_type": "code",
   "metadata": {
    "id": "uXa81hwugXXi",
    "colab_type": "code",
    "outputId": "ffcb783e-3a54-4b5a-88b3-b81e6e8c39b1",
    "colab": {
     "base_uri": "https://localhost:8080/",
     "height": 289
    }
   },
   "source": [
    "model.summary()"
   ],
   "execution_count": 0,
   "outputs": [
    {
     "output_type": "stream",
     "text": [
      "Model: \"model\"\n",
      "_________________________________________________________________\n",
      "Layer (type)                 Output Shape              Param #   \n",
      "=================================================================\n",
      "input_1 (InputLayer)         [(None, 784)]             0         \n",
      "_________________________________________________________________\n",
      "dense (Dense)                (None, 64)                50240     \n",
      "_________________________________________________________________\n",
      "dense_1 (Dense)              (None, 64)                4160      \n",
      "_________________________________________________________________\n",
      "dense_2 (Dense)              (None, 10)                650       \n",
      "=================================================================\n",
      "Total params: 55,050\n",
      "Trainable params: 55,050\n",
      "Non-trainable params: 0\n",
      "_________________________________________________________________\n"
     ],
     "name": "stdout"
    }
   ]
  },
  {
   "cell_type": "markdown",
   "metadata": {
    "id": "_zAJdNb6gqhR",
    "colab_type": "text"
   },
   "source": [
    "Or maybe the actual DAG"
   ]
  },
  {
   "cell_type": "code",
   "metadata": {
    "id": "WL5DccJPgsbq",
    "colab_type": "code",
    "outputId": "48b5888d-832e-4aa6-8747-45823d6de8cc",
    "colab": {
     "base_uri": "https://localhost:8080/",
     "height": 422
    }
   },
   "source": [
    "tf.keras.utils.plot_model(model, 'plot.png', show_shapes=True)"
   ],
   "execution_count": 7,
   "outputs": [
    {
     "name": "stdout",
     "output_type": "stream",
     "text": [
      "('You must install pydot (`pip install pydot`) and install graphviz (see instructions at https://graphviz.gitlab.io/download/) ', 'for plot_model/model_to_dot to work.')\n"
     ]
    }
   ]
  },
  {
   "cell_type": "markdown",
   "metadata": {
    "id": "bEDAOVEskVA3",
    "colab_type": "text"
   },
   "source": [
    "### Example: Visual Question Answering"
   ]
  },
  {
   "cell_type": "markdown",
   "metadata": {
    "id": "BqhvT3AKlRvl",
    "colab_type": "text"
   },
   "source": [
    "In this section we will implement the simplest model to solve the VQA task. Here is the task:\n",
    "\n",
    "**Input Image:**"
   ]
  },
  {
   "cell_type": "markdown",
   "metadata": {
    "id": "8gtjDeoHkbqp",
    "colab_type": "text"
   },
   "source": [
    "<p align=\"center\">\n",
    "<img src=\"https://imgur.com/download/BLrsLU5\" width=\"300\" />\n",
    "<br/>\n",
    "Photo by Adrian Pereira on Unsplash\n",
    "</p>"
   ]
  },
  {
   "cell_type": "markdown",
   "metadata": {
    "id": "6dlVmC1ZlgvZ",
    "colab_type": "text"
   },
   "source": [
    "**Question:** What animal are these?\n",
    "\n",
    "**Answer:** Koala\n",
    "\n"
   ]
  },
  {
   "cell_type": "markdown",
   "metadata": {
    "id": "gmr0GBkjmtXN",
    "colab_type": "text"
   },
   "source": [
    "The model:\n",
    "<p align=\"center\">\n",
    "<img src=\"https://imgur.com/download/KpSzWYe\" width=\"300\" />\n",
    "</p>"
   ]
  },
  {
   "cell_type": "code",
   "metadata": {
    "id": "GldHrHO0ls_T",
    "colab_type": "code",
    "colab": {}
   },
   "source": [
    "import tensorflow as tf \n",
    "from tensorflow.keras.layers import Input, Conv2D, MaxPooling2D, Flatten, Embedding, LSTM, Dense\n",
    "\n",
    "# image input\n",
    "image_input = Input(shape=(128, 128, 3))\n",
    "\n",
    "# Encode the image into an abstract\n",
    "# representation\n",
    "encoded_image = Conv2D(64, (3, 3), \n",
    "       activation='relu')(image_input)\n",
    "encoded_image = MaxPooling2D()(encoded_image)\n",
    "encoded_image = Flatten()(encoded_image)\n",
    "\n",
    "# Vectorized input question\n",
    "question_input = Input(shape=(None,),\n",
    "                       dtype='int32')\n",
    "\n",
    "# Encode the question into a single-\n",
    "# vector representation\n",
    "embedded = Embedding(\n",
    "    input_dim=5000,\n",
    "    output_dim=128,\n",
    "    mask_zero=True)(question_input)\n",
    "\n",
    "encoded_question = LSTM(128)(embedded)\n",
    "\n",
    "# Concat the vector representations\n",
    "merged = layers.concatenate([\n",
    "    encoded_image, encoded_question])\n",
    "\n",
    "# Use an MLP to produce the output\n",
    "output = Dense(1000, \n",
    "    activation='softmax')(merged)\n",
    "\n",
    "model = tf.keras.Model([image_input, question_input], output)\n",
    "model.summary()"
   ],
   "execution_count": 8,
   "outputs": [
    {
     "name": "stdout",
     "output_type": "stream",
     "text": [
      "Model: \"model_1\"\n",
      "__________________________________________________________________________________________________\n",
      " Layer (type)                   Output Shape         Param #     Connected to                     \n",
      "==================================================================================================\n",
      " input_2 (InputLayer)           [(None, 128, 128, 3  0           []                               \n",
      "                                )]                                                                \n",
      "                                                                                                  \n",
      " conv2d (Conv2D)                (None, 126, 126, 64  1792        ['input_2[0][0]']                \n",
      "                                )                                                                 \n",
      "                                                                                                  \n",
      " input_3 (InputLayer)           [(None, None)]       0           []                               \n",
      "                                                                                                  \n",
      " max_pooling2d (MaxPooling2D)   (None, 63, 63, 64)   0           ['conv2d[0][0]']                 \n",
      "                                                                                                  \n",
      " embedding (Embedding)          (None, None, 128)    640000      ['input_3[0][0]']                \n",
      "                                                                                                  \n",
      " flatten (Flatten)              (None, 254016)       0           ['max_pooling2d[0][0]']          \n",
      "                                                                                                  \n",
      " lstm (LSTM)                    (None, 128)          131584      ['embedding[0][0]']              \n",
      "                                                                                                  \n",
      " concatenate (Concatenate)      (None, 254144)       0           ['flatten[0][0]',                \n",
      "                                                                  'lstm[0][0]']                   \n",
      "                                                                                                  \n",
      " dense_9 (Dense)                (None, 1000)         254145000   ['concatenate[0][0]']            \n",
      "                                                                                                  \n",
      "==================================================================================================\n",
      "Total params: 254,918,376\n",
      "Trainable params: 254,918,376\n",
      "Non-trainable params: 0\n",
      "__________________________________________________________________________________________________\n"
     ]
    }
   ]
  },
  {
   "cell_type": "code",
   "metadata": {
    "id": "r7olOWksoV8h",
    "colab_type": "code",
    "outputId": "03c0f84d-8189-4ba2-ca29-2bfe80cdccb1",
    "colab": {
     "base_uri": "https://localhost:8080/",
     "height": 644
    }
   },
   "source": [
    "tf.keras.utils.plot_model(model, 'plot.png', show_shapes=True)"
   ],
   "execution_count": 0,
   "outputs": [
    {
     "output_type": "execute_result",
     "data": {
      "image/png": "[encoded data removed]",
      "text/plain": [
       "<IPython.core.display.Image object>"
      ]
     },
     "metadata": {
      "tags": []
     },
     "execution_count": 13
    }
   ]
  },
  {
   "cell_type": "markdown",
   "metadata": {
    "id": "tzJ99c_QhPI2",
    "colab_type": "text"
   },
   "source": [
    "### Exercise #1: Product Review Classifier\n",
    "Suppose that we have an online store (e.g., Amazon), and users can put a comment on products if they have bought them. Then, we want to find 1) whether the user would like to recommend the product 2) the sentiment of that review. Your model is given the title, the body, and the category of the review.\n",
    "Here are the details of inputs and outputs:\n",
    "\n",
    "Inputs\n",
    "-  Title: Vectorized & padded input (can consist of multiple word)\n",
    "-  Body: Vectorized & padded review content\n",
    "-  Product Category: one category out of 12 (one-hot representation)\n",
    "\n",
    "Output\n",
    "-  Sentiment score: 3 possibilities (bad, medium, good)\n",
    "-  Recommend: Wether the user recommends the product\n",
    "\n",
    "Requirement\n",
    "- You should only have 1 embedding matrix (i.e. share the embedding layer)\n"
   ]
  },
  {
   "cell_type": "code",
   "metadata": {
    "id": "y8REnvFnnMuk",
    "colab_type": "code",
    "colab": {}
   },
   "source": [
    "num_categories = 12\n",
    "\n",
    "title_input = ... # Variable-length sequence of ints\n",
    "body_input = ... # Variable-length sequence of ints\n",
    "cat_input = ... # One-hot representation (dtype=tf.float32)\n",
    "\n",
    "encoded_title = ... # 100-d representation\n",
    "encoded_body = ... # 100-d representation\n",
    "\n",
    "output_sentiment = ... # Model prediction of sentiment\n",
    "output_recom = ... # Model prediction of the user's recommendation status\n",
    "\n",
    "model = ... # Final Model"
   ],
   "execution_count": 0,
   "outputs": []
  },
  {
   "cell_type": "code",
   "metadata": {
    "id": "Doiu6tavfjWA",
    "colab_type": "code",
    "colab": {}
   },
   "source": [
    "tf.keras.utils.plot_model(model, 'model.png', show_shapes=True)"
   ],
   "execution_count": 0,
   "outputs": []
  },
  {
   "cell_type": "code",
   "metadata": {
    "id": "NKl9MwSCowag",
    "colab_type": "code",
    "cellView": "both",
    "outputId": "15abfce5-2079-4c28-e42d-34b803749ad3",
    "colab": {
     "base_uri": "https://localhost:8080/",
     "height": 533
    }
   },
   "source": [
    "# Check yours against the following plot"
   ],
   "execution_count": 0,
   "outputs": [
    {
     "output_type": "execute_result",
     "data": {
      "image/png": "[encoded data removed]",
      "text/plain": [
       "<IPython.core.display.Image object>"
      ]
     },
     "metadata": {
      "tags": []
     },
     "execution_count": 12
    }
   ]
  },
  {
   "cell_type": "markdown",
   "metadata": {
    "id": "pi89Sj_gnwsg",
    "colab_type": "text"
   },
   "source": [
    "## Writing Custom Layers\n",
    "---\n",
    "In many cases, the built-in set of layers cannot satisfy your particular needs. Therefore, you have to create your own layers. Creating our layer can be achieved by extending the `tf.keras.layers.Layer` class. In this section, we will discuss the topic in more details.\n",
    "\n",
    "Here is the body of a custom layer:"
   ]
  },
  {
   "cell_type": "code",
   "metadata": {
    "id": "__4ziRycwkO2",
    "colab_type": "code",
    "colab": {}
   },
   "source": [
    "class MyLayer(layers.Layer):\n",
    "  def __init__(self, arg1,arg2, ...):\n",
    "    super().__init__(...)\n",
    "    ...\n",
    "  \n",
    "  def build(self, input_shape):\n",
    "    ...\n",
    "\n",
    "  def compute_output_shape(self, input_shape):\n",
    "    ...\n",
    "\n",
    "  def compute_mask(self, inputs, mask=None):\n",
    "    ...\n",
    "\n",
    "  def call(self, inputs):\n",
    "    ...\n",
    "\n",
    "  def get_config(self):\n",
    "    ...\n"
   ],
   "execution_count": 0,
   "outputs": []
  },
  {
   "cell_type": "markdown",
   "metadata": {
    "id": "67eyqiXdwdbA",
    "colab_type": "text"
   },
   "source": [
    "Let's create a very basic layer using the layer subclassing:\n"
   ]
  },
  {
   "cell_type": "code",
   "metadata": {
    "id": "VdsHLCmg6AxG",
    "colab_type": "code",
    "colab": {}
   },
   "source": [
    "class Linear(layers.Layer):\n",
    "    def __init__(self, units=32, input_dim=32):\n",
    "        super(Linear, self).__init__()\n",
    "        \n",
    "        initializer = tf.initializers.GlorotUniform()\n",
    "        self.w = tf.Variable(initializer([input_dim, units]),\n",
    "                            name=\"kernel\")\n",
    "\n",
    "        initializer = tf.initializers.Zeros()\n",
    "        self.b = tf.Variable(initializer([units]),\n",
    "                            name=\"bias\")\n",
    "    \n",
    "    def call(self, inputs):\n",
    "        return tf.matmul(inputs, self.w) + self.b\n",
    "\n",
    "x = tf.ones((2, 2))\n",
    "linear_layer = Linear(4, 2)\n",
    "y = linear_layer(x)\n",
    "print(y)"
   ],
   "execution_count": 0,
   "outputs": []
  },
  {
   "cell_type": "markdown",
   "metadata": {
    "id": "P5c6K1o9-cPl",
    "colab_type": "text"
   },
   "source": [
    "**The difference between our Linear class and Keras' Dense Layer**"
   ]
  },
  {
   "cell_type": "markdown",
   "metadata": {
    "id": "GASd3-_g-nDp",
    "colab_type": "text"
   },
   "source": [
    "First, look at how we use these two layers:"
   ]
  },
  {
   "cell_type": "code",
   "metadata": {
    "id": "O9G18JoxBM1s",
    "colab_type": "code",
    "colab": {}
   },
   "source": [
    "# Ours:\n",
    "l1 = Linear(units=10, input_dim=2)\n",
    "\n",
    "# Keras'\n",
    "l2 = tf.keras.layers.Dense(units=10)"
   ],
   "execution_count": 0,
   "outputs": []
  },
  {
   "cell_type": "markdown",
   "metadata": {
    "id": "LQFJoHe7BeXy",
    "colab_type": "text"
   },
   "source": [
    "Can you spot the difference in their usage? The fact here is that in our implementation, we needed to get the input dimension from our class' users since we depend on that in creating our weight matrices. So, how does the Keras version do it this without getting the input dimension in its input? "
   ]
  },
  {
   "cell_type": "markdown",
   "metadata": {
    "id": "cSrn-H7FEshh",
    "colab_type": "text"
   },
   "source": [
    "### Laziness!"
   ]
  },
  {
   "cell_type": "markdown",
   "metadata": {
    "id": "AglcxjSwEuk9",
    "colab_type": "text"
   },
   "source": [
    "The trick that Keras version leverages is laziness! That is, it infers the shape of the input (and thus its dimension) only after it receives the actual input. Then, it creates the weight matrices upon its invocation (not during the construction). So, let's see how our implementation can become lazy!"
   ]
  },
  {
   "cell_type": "code",
   "metadata": {
    "id": "m0BRerj3CTCR",
    "colab_type": "code",
    "colab": {}
   },
   "source": [
    "class Linear(layers.Layer):\n",
    "    def __init__(self, units=32):\n",
    "        super(Linear, self).__init__()\n",
    "        self.units = units\n",
    "\n",
    "    def build(self, input_shape):\n",
    "        self.w = self.add_weight(shape=(input_shape[-1], self.units),\n",
    "                                initializer='random_normal',\n",
    "                                trainable=True)\n",
    "        self.b = self.add_weight(shape=(self.units,),\n",
    "                                initializer=‘zeros',\n",
    "                                trainable=True)\n",
    "\n",
    "    def call(self, inputs):\n",
    "        return tf.matmul(inputs, self.w) + self.b\n",
    "\n",
    "x = tf.ones((2, 2))\n",
    "linear_layer = Linear(4)\n",
    "y = linear_layer(x)\n",
    "print(y)"
   ],
   "execution_count": 0,
   "outputs": []
  },
  {
   "cell_type": "markdown",
   "metadata": {
    "id": "_u7EFi8jEwKN",
    "colab_type": "text"
   },
   "source": [
    "### Make it Serializable "
   ]
  },
  {
   "cell_type": "markdown",
   "metadata": {
    "id": "lzzeOi-XFsfl",
    "colab_type": "text"
   },
   "source": [
    "\n",
    "In order for Tensorflow to save and load the model from the disk, we need to make our custom layers serializable. To make the layer serializable, we only need to implement a single method in our class, and Tensorflow will do the rest for us. "
   ]
  },
  {
   "cell_type": "code",
   "metadata": {
    "id": "7xuJOctfFtWZ",
    "colab_type": "code",
    "colab": {}
   },
   "source": [
    "class Linear(layers.Layer):\n",
    "    def __init__(self, units=32):\n",
    "        super(Linear, self).__init__()\n",
    "        self.units = units\n",
    "\n",
    "    def build(self, input_shape):\n",
    "        self.w = self.add_weight(shape=(input_shape[-1], self.units),\n",
    "                                initializer='random_normal',\n",
    "                                trainable=True)\n",
    "        self.b = self.add_weight(shape=(self.units,),\n",
    "                                initializer=‘zeros',\n",
    "                                trainable=True)\n",
    "\n",
    "    def call(self, inputs):\n",
    "        return tf.matmul(inputs, self.w) + self.b\n",
    "\n",
    "    def get_config(self):\n",
    "        config = super(Linear, self).get_config()\n",
    "        config.update({'units': self.units})\n",
    "        return config"
   ],
   "execution_count": 0,
   "outputs": []
  },
  {
   "cell_type": "markdown",
   "metadata": {
    "id": "Tvy9ZJDEGlFB",
    "colab_type": "text"
   },
   "source": [
    "The `get_config(self)` method should return a string-to-(any serializable values such as numbers or strings) dictionary. Basically, these values would be our layer's hyperparameters: number of neurons, the activation function, and so forth."
   ]
  },
  {
   "cell_type": "code",
   "metadata": {
    "id": "5K1nqi6wHe7R",
    "colab_type": "code",
    "colab": {}
   },
   "source": [
    "layer = Linear(64)\n",
    "config = layer.get_config()\n",
    "config"
   ],
   "execution_count": 0,
   "outputs": []
  },
  {
   "cell_type": "code",
   "metadata": {
    "id": "KpgBI063HhMx",
    "colab_type": "code",
    "colab": {}
   },
   "source": [
    "new_layer = Linear.from_config(config)"
   ],
   "execution_count": 0,
   "outputs": []
  },
  {
   "cell_type": "markdown",
   "metadata": {
    "id": "6qrw43GgISgR",
    "colab_type": "text"
   },
   "source": [
    "### Masking"
   ]
  },
  {
   "cell_type": "markdown",
   "metadata": {
    "id": "9a4iHWePIfW2",
    "colab_type": "text"
   },
   "source": [
    "Matrix computations require a fixed shape and constant dimension during the execution on GPUs and CPUs. However, since our computations are mostly based on batches,  we will definitely have data points where the dimensions can not be consistent across each batch, e.g., variable data such as text. To sidestep this issue, we pad the dataset samples with extra units so that each sample becomes as long as the longest sequence. But for the model and Keras to understand our padding, we have to inform them in some way. Masking is the way that Keras understands the padding. The mask matrix is a boolean matrix that its elements are only one when the data is valid.\n",
    "\n",
    "When it comes to masking, Keras layers behave in 3 ways:\n",
    "1. Mask Consumers\n",
    "2. Mask Propagators\n",
    "3. Mask Generators\n",
    "\n",
    "Here are the general structure for those types:"
   ]
  },
  {
   "cell_type": "code",
   "metadata": {
    "id": "-gSFzz8XIUOu",
    "colab_type": "code",
    "colab": {}
   },
   "source": [
    "class ConsumerLayer(layers.Layer):\n",
    "    def call(self, inputs, mask=None):\n",
    "        ...\n",
    "\n",
    "\n",
    "class MaskPassThroughLayer(layers.Layer):\n",
    "    def __init__(self, ...):\n",
    "        self.supports_masking = True\n",
    "\n",
    "\n",
    "class GeneratorLayer(layers.Layer):\n",
    "    def __init__(self, ...):\n",
    "        self.supports_masking = True\n",
    "\n",
    "    def compute_mask(self, inputs, mask=None):\n",
    "        ..."
   ],
   "execution_count": 0,
   "outputs": []
  },
  {
   "cell_type": "markdown",
   "metadata": {
    "id": "jj57QQhbN_OK",
    "colab_type": "text"
   },
   "source": [
    "#### An Example\n"
   ]
  },
  {
   "cell_type": "code",
   "metadata": {
    "id": "GZyCPQmTODa6",
    "colab_type": "code",
    "colab": {}
   },
   "source": [
    "class CustomEmbedding(tf.keras.layers.Layer):\n",
    "    def __init__(self, input_dim, output_dim, mask_zero=False):\n",
    "        super(CustomEmbedding, self).__init__()\n",
    "        self.supports_masking = True\n",
    "        self.mask_zero = mask_zero\n",
    "    \n",
    "    def build(self, input_shape):\n",
    "        ...\n",
    "    def call(self, inputs):\n",
    "        ...\n",
    "\n",
    "    def compute_mask(self, inputs, mask=None):\n",
    "        if not self.mask_zero:\n",
    "            return None\n",
    "        return tf.not_equal(inputs, 0)"
   ],
   "execution_count": 0,
   "outputs": []
  },
  {
   "cell_type": "code",
   "metadata": {
    "id": "VVG98PhZOIPU",
    "colab_type": "code",
    "colab": {}
   },
   "source": [
    "layer = CustomEmbedding(10, 32, mask_zero=True)\n",
    "x = np.array(\n",
    "    [[2, 3, 4, 0, 0], \n",
    "     [3, 3, 4, 9, 20], \n",
    "     [9, 11, 1, 0, 0]], dtype=np.int32)\n",
    "\n",
    "y = layer(x)\n",
    "mask = layer.compute_mask(x)\n",
    "\n",
    "# mask is: \n",
    "# tf.Tensor(\n",
    "# [[ True  True  True False False]\n",
    "#  [ True  True  True  True  True]\n",
    "#  [ True  True  True False False]], shape=(3, 5), dtype=bool)"
   ],
   "execution_count": 0,
   "outputs": []
  },
  {
   "cell_type": "markdown",
   "metadata": {
    "id": "0mw5Gp8Lp9gG",
    "colab_type": "text"
   },
   "source": [
    "### Exercise #2: Max-pooling through time\n",
    "One of the technique that originates from Computer Vision is called Max pooling. As you might remember, this technique reduces the impact of spatial information in the image. For example, If your CNN says, \"Yay! I found a wheel at the position (x,y).\", your Max-pooling will convert this sentence to \"Yay! I found a wheel in this image.\"  Intuitively We can use the max-pooling procedure in any configuration beside an image. Here is an example of Max-pooling application in recurrent networks:\n",
    "\n",
    "<p align=\"center\"><img src=\"https://iust-deep-learning.github.io/972/static_files/assignments/asg05_assets/05_rnn_max_pooling.png\" width=\"450\" />   \n",
    "</p>\n",
    "<p align=\"center\">Max-pooling through an RNN's hidden states.  </p>\n",
    "\n",
    "In this setup, we'd like to perform max-pooling over the hidden states $\\hat{h} = MaxPool([h^{(1)}, ..., h^{(n)}])$ where $\\hat{h}$ is the max-pooled version. Every dim of $\\hat{h}$ is the maximum of that particular dim across all of the hidden states.\n",
    "\n",
    "$$\n",
    "\\hat{h}_i =\\max_{1\\le k \\le n} h^{(k)}_i\n",
    "$$\n",
    "\n",
    "Although the default Keras framework provides the implementation, it lacks the masking support. Implement this mechanism as a Keras layer."
   ]
  },
  {
   "cell_type": "code",
   "metadata": {
    "id": "6ERImAmIs_Zj",
    "colab_type": "code",
    "colab": {}
   },
   "source": [
    "class MaskedGlobalMaxPooling1D(tf.keras.layers.Layer):\n",
    "  def call(self, inputs, mask=None):\n",
    "    \"\"\"\n",
    "    Args:\n",
    "      inputs (Tensor(dtype=float32)): shape = [batch, timesteps, featurs]\n",
    "      mask (Tensor(dtype=bool)): shape = [batch, timesteps]\n",
    "      \n",
    "    Returns\n",
    "      output (Tensor(dtype=float32)): shape = [batch, features]\n",
    "      \n",
    "    Hint: tf.where, tf.tile, tf.math.reduce_max could be helpful.\n",
    "    \"\"\"\n",
    "    output = None\n",
    "\n",
    "    ########################################\n",
    "    #     Put your implementation here     #\n",
    "    ########################################\n",
    "    \n",
    "    return output"
   ],
   "execution_count": 0,
   "outputs": []
  },
  {
   "cell_type": "markdown",
   "metadata": {
    "id": "7CCdZwPIwH3J",
    "colab_type": "text"
   },
   "source": [
    "Test your implementation"
   ]
  },
  {
   "cell_type": "code",
   "metadata": {
    "id": "on8-saPvwKxG",
    "colab_type": "code",
    "cellView": "both",
    "colab": {}
   },
   "source": [
    "import numpy as np\n",
    "\n",
    "seq = tf.constant( [ \n",
    "    [[1, 3],\n",
    "     [4, -2],\n",
    "     [0, 11]],\n",
    "    \n",
    "    [[9, -3],\n",
    "     [8, -2],\n",
    "     [100, -5]]\n",
    "], dtype=tf.float32)\n",
    "mask = tf.constant([\n",
    "    [True, True, True],\n",
    "    [True, True, False]\n",
    "], dtype=tf.bool)\n",
    "\n",
    "max_pooled = MaskedGlobalMaxPooling1D()(seq, mask=mask)\n",
    "\n",
    "print(max_pooled)\n",
    "assert np.all(max_pooled.numpy() == np.array([[ 4., 11.],\n",
    "       [ 9., -2.]]))\n",
    "print(\"Passed!\")"
   ],
   "execution_count": 0,
   "outputs": []
  },
  {
   "cell_type": "markdown",
   "metadata": {
    "id": "pZWrxoMAXugw",
    "colab_type": "text"
   },
   "source": [
    "### Mode Switching"
   ]
  },
  {
   "cell_type": "markdown",
   "metadata": {
    "id": "X7bgtFJ3X46_",
    "colab_type": "text"
   },
   "source": [
    "Sometimes we need to alter the model's behavior based on the run mode: training and inference. To do such a thing in our layer, we should use an optional parameter `training` in the `call(...)` method. Here is an example:"
   ]
  },
  {
   "cell_type": "code",
   "metadata": {
    "id": "gW8p6qJwaymS",
    "colab_type": "code",
    "colab": {}
   },
   "source": [
    "class CustomDropout(layers.Layer):\n",
    "    def __init__(self, rate):\n",
    "        super(CustomDropout, self).__init__()\n",
    "        self.rate = rate\n",
    "    \n",
    "    def call(self, inputs, training=None):\n",
    "        if training:\n",
    "            return tf.nn.dropout(inputs, rate=self.rate)\n",
    "        return inputs"
   ],
   "execution_count": 0,
   "outputs": []
  },
  {
   "cell_type": "markdown",
   "metadata": {
    "id": "b8HttQqEa1kG",
    "colab_type": "text"
   },
   "source": [
    "### Nesting Layers"
   ]
  },
  {
   "cell_type": "markdown",
   "metadata": {
    "id": "pDMySJbQbIFt",
    "colab_type": "text"
   },
   "source": [
    "You can also use layers inside your layer. Example:"
   ]
  },
  {
   "cell_type": "code",
   "metadata": {
    "id": "wtlpdZYvbGll",
    "colab_type": "code",
    "colab": {}
   },
   "source": [
    "class MLPBlock(layers.Layer):\n",
    "    def __init__(self):\n",
    "        super(MLPBlock, self).__init__()\n",
    "        self.linear_1 = Linear(32)\n",
    "        self.linear_2 = Linear(32)\n",
    "        self.linear_3 = Linear(1)\n",
    "        \n",
    "    def call(self, inputs):\n",
    "        x = self.linear_1(inputs)\n",
    "        x = tf.nn.relu(x)\n",
    "        x = self.linear_2(x)\n",
    "        x = tf.nn.relu(x)\n",
    "        return self.linear_3(x)\n",
    "\n",
    "mlp = MLPBlock()\n",
    "y = mlp(tf.ones(shape=(3, 64)))\n",
    "\n",
    "print('trainable weights:', len(mlp.trainable_weights)) "
   ],
   "execution_count": 0,
   "outputs": []
  },
  {
   "cell_type": "markdown",
   "metadata": {
    "id": "94JyLTbPnLbV",
    "colab_type": "text"
   },
   "source": [
    "## Model-subclassing (MSC) APIs\n",
    "---"
   ]
  },
  {
   "cell_type": "markdown",
   "metadata": {
    "id": "p6q8Bs08faxm",
    "colab_type": "text"
   },
   "source": [
    "Although Functional API is a quite flexible way defining models, we may still need more versatility in defining models. Model-Subclassing API is the TensorFlow solution for this special case. This level of complexity will come handy in Deep Learning research, where the scientists need full control over their model.\n",
    "\n",
    "Let's see the implementation of the first example in this notebook using Model-subclassing APIs"
   ]
  },
  {
   "cell_type": "code",
   "metadata": {
    "id": "oZlNqs-WgQCl",
    "colab_type": "code",
    "colab": {}
   },
   "source": [
    "class MyModel(tf.keras.Model):\n",
    "    def __init__(self, num_classes=10):\n",
    "        super(MyModel, self).__init__()\n",
    "        self.dense_1 = layers.Dense(32, activation=‘relu')\n",
    "        self.dense_2 = layers.Dense(num_classes,\n",
    "                                    activation='softmax')\n",
    "    \n",
    "    def call(self, inputs):\n",
    "        # Define your forward pass here\n",
    "        x = self.dense_1(inputs)\n",
    "        return self.dense_2(x)\n",
    "\n",
    "# You can use all TensorFlow ops\n",
    "\n",
    "class MyModel(tf.keras.Model):\n",
    "    def __init__(self, num_classes=10):\n",
    "        super(MyModel, self).__init__()\n",
    "        self.dense_1 = layers.Dense(32)\n",
    "        self.dense_2 = layers.Dense(num_classes,\n",
    "                                    activation='softmax')\n",
    "    \n",
    "    def call(self, inputs):\n",
    "        # Define your forward pass here\n",
    "        x = self.dense_1(inputs)\n",
    "        x = tf.nn.relu(x)\n",
    "        return self.dense_2(x)"
   ],
   "execution_count": 0,
   "outputs": []
  },
  {
   "cell_type": "markdown",
   "metadata": {
    "id": "S5VfpVzUnQcK",
    "colab_type": "text"
   },
   "source": [
    "### Model vs Layer"
   ]
  },
  {
   "cell_type": "markdown",
   "metadata": {
    "id": "ElneG131hT6_",
    "colab_type": "text"
   },
   "source": [
    "Models are exactly the same as layers! plus:\n",
    "\n",
    "- Training (model.fit(), .compile(), .evaluate, and etc.)\n",
    "- Save and load on the disk\n",
    "- Summary/Visualization\n"
   ]
  },
  {
   "cell_type": "markdown",
   "metadata": {
    "id": "tOQdRVYphX2z",
    "colab_type": "text"
   },
   "source": [
    "**The rule of thumb:**\n",
    "- **Layer:**\n",
    "corresponds to what we refer to in the literature as a \"layer\"  (as in \"convolution layer\" or \"recurrent layer\") or as a \"block\" (as in \"ResNet block\" or \"Inception block\").\n",
    "- **Model:**\n",
    "corresponds to what is referred to in the literature as a \"model\" (as in \"deep learning model\") or as a \"network\" (as in \"deep neural network”)\n",
    "\n"
   ]
  },
  {
   "cell_type": "markdown",
   "metadata": {
    "id": "hr1O3EZWoR2S",
    "colab_type": "text"
   },
   "source": [
    "### MSC vs Functional APIs"
   ]
  },
  {
   "cell_type": "markdown",
   "metadata": {
    "id": "ZZQblaf-hvpo",
    "colab_type": "text"
   },
   "source": [
    "- MSC is much more flexible in defining the computation graph (recall that in Functional API everything should an instance of a Layer when we are connecting different nodes of the model. Hence, no support for low-level TF Ops)\n",
    "- MSC supports changing the runtime branch between training and evaluation (via training parameter)\n",
    "- The mask argument should be passed manually in the MSC.\n",
    "- Model saving & restoring is easier in the Functional API.\n"
   ]
  },
  {
   "cell_type": "markdown",
   "metadata": {
    "id": "qeB_bALdjf7U",
    "colab_type": "text"
   },
   "source": [
    "#### Exercise #3: Implementing Quiz #1 using MSC "
   ]
  },
  {
   "cell_type": "markdown",
   "metadata": {
    "id": "Kr-phXqAjyS9",
    "colab_type": "text"
   },
   "source": [
    "Implement the model mentioned in Quiz #1 using the subclassing APIs."
   ]
  },
  {
   "cell_type": "code",
   "metadata": {
    "id": "POWi1Ax7j9LA",
    "colab_type": "code",
    "colab": {}
   },
   "source": [
    "class ReviewClassifier(tf.keras.Model):\n",
    "  pass"
   ],
   "execution_count": 0,
   "outputs": []
  },
  {
   "cell_type": "markdown",
   "metadata": {
    "colab_type": "text",
    "id": "tXo0f6BgZhYU"
   },
   "source": [
    "## References\n",
    "\n",
    "\n",
    "---\n",
    "\n"
   ]
  },
  {
   "cell_type": "markdown",
   "metadata": {
    "id": "KfUQc2aEYswq",
    "colab_type": "text"
   },
   "source": [
    "\n",
    "\n",
    "*   Broadcasting in Python https://www.youtube.com/watch?v=tKcLaGdvabM\n",
    "*   https://colab.research.google.com/notebooks/mlcc/creating_and_manipulating_tensors.ipynb#scrollTo=ocwT0iXH-nhT\n",
    "*   https://tensorflow.org\n",
    "*   http://web.stanford.edu/class/cs20si/\n",
    "\n"
   ]
  }
 ]
}