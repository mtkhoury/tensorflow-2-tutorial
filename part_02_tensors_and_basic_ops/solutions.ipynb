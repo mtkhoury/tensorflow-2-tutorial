{
 "cells": [
  {
   "cell_type": "markdown",
   "metadata": {
    "colab_type": "text",
    "id": "view-in-github"
   },
   "source": [
    " <a href=\"https://colab.research.google.com/github/iust-deep-learning/tensorflow-2-tutorial/blob/master/part_02_tensors_and_basic_ops/solutions.ipynb\" target=\"_parent\"><img src=\"https://colab.research.google.com/assets/colab-badge.svg\" alt=\"Open In Colab\"/></a>"
   ]
  },
  {
   "cell_type": "markdown",
   "metadata": {
    "colab_type": "text",
    "id": "YS8LoLU0OQha"
   },
   "source": [
    "# Part #2: Tensors and Basic Operations\n",
    "\n",
    "\n",
    "TensorFlow 2.0 Tutorial by IUST\n",
    "\n",
    "*   Last Update: Jan 2020\n",
    "*   Official Page: https://github.com/iust-deep-learning/tensorflow-2-tutorial\n",
    "\n",
    "\n",
    "\n",
    "\n",
    "\n",
    "---\n",
    "\n",
    "\n"
   ]
  },
  {
   "cell_type": "markdown",
   "metadata": {
    "colab_type": "text",
    "id": "gSj39l8gcIA8"
   },
   "source": [
    "Please run the following cell before going through the rest of the tutorial."
   ]
  },
  {
   "cell_type": "code",
   "execution_count": 1,
   "metadata": {
    "cellView": "both",
    "colab": {
     "base_uri": "https://localhost:8080/",
     "height": 34
    },
    "colab_type": "code",
    "id": "RFC1dEyMcFq2",
    "outputId": "71d2b8c0-bcc8-41d6-8f51-66c043d03b75"
   },
   "outputs": [],
   "source": [
    "from __future__ import absolute_import, division, print_function, unicode_literals\n",
    "\n",
    "# Install TensorFlow 2\n",
    "try:\n",
    "  # %tensorflow_version only exists in Colab.\n",
    "  %tensorflow_version 2.x\n",
    "except Exception:\n",
    "  pass\n",
    "\n",
    "import tensorflow as tf\n",
    "import numpy as np\n",
    "\n",
    "from pprint import pprint"
   ]
  },
  {
   "cell_type": "markdown",
   "metadata": {
    "colab_type": "text",
    "id": "tzJ99c_QhPI2"
   },
   "source": [
    "### Exercise #1: Prime numbers diff\n",
    "We have a very special vector, where the `i`th element is equal to the absolute difference of `i`th prime number squared and `i+1`th prime number squared. For example,  the 1st element in this vector is $|2^2 - 3^2| = 5$. Create this vector using TensorFlow operations.\n"
   ]
  },
  {
   "cell_type": "code",
   "execution_count": 2,
   "metadata": {
    "colab": {},
    "colab_type": "code",
    "id": "y8REnvFnnMuk"
   },
   "outputs": [
    {
     "ename": "AssertionError",
     "evalue": "",
     "output_type": "error",
     "traceback": [
      "\u001B[1;31m---------------------------------------------------------------------------\u001B[0m",
      "\u001B[1;31mAssertionError\u001B[0m                            Traceback (most recent call last)",
      "\u001B[1;32m<ipython-input-2-db7d95cd095b>\u001B[0m in \u001B[0;36m<module>\u001B[1;34m\u001B[0m\n\u001B[0;32m      5\u001B[0m \u001B[0mdiffs\u001B[0m \u001B[1;33m=\u001B[0m \u001B[0mtf\u001B[0m\u001B[1;33m.\u001B[0m\u001B[0mzeros_like\u001B[0m\u001B[1;33m(\u001B[0m\u001B[0mprime_numbers\u001B[0m\u001B[1;33m)\u001B[0m\u001B[1;33m\u001B[0m\u001B[1;33m\u001B[0m\u001B[0m\n\u001B[0;32m      6\u001B[0m \u001B[1;33m\u001B[0m\u001B[0m\n\u001B[1;32m----> 7\u001B[1;33m \u001B[1;32massert\u001B[0m \u001B[0mtf\u001B[0m\u001B[1;33m.\u001B[0m\u001B[0mmath\u001B[0m\u001B[1;33m.\u001B[0m\u001B[0mreduce_all\u001B[0m\u001B[1;33m(\u001B[0m\u001B[0mdiffs\u001B[0m \u001B[1;33m==\u001B[0m \u001B[0mtf\u001B[0m\u001B[1;33m.\u001B[0m\u001B[0mconstant\u001B[0m\u001B[1;33m(\u001B[0m\u001B[1;33m[\u001B[0m\u001B[1;36m5\u001B[0m\u001B[1;33m,\u001B[0m  \u001B[1;36m16\u001B[0m\u001B[1;33m,\u001B[0m  \u001B[1;36m24\u001B[0m\u001B[1;33m,\u001B[0m  \u001B[1;36m72\u001B[0m\u001B[1;33m,\u001B[0m  \u001B[1;36m48\u001B[0m\u001B[1;33m,\u001B[0m \u001B[1;36m120\u001B[0m\u001B[1;33m,\u001B[0m  \u001B[1;36m72\u001B[0m\u001B[1;33m,\u001B[0m \u001B[1;36m168\u001B[0m\u001B[1;33m,\u001B[0m \u001B[1;36m312\u001B[0m\u001B[1;33m]\u001B[0m\u001B[1;33m)\u001B[0m\u001B[1;33m)\u001B[0m\u001B[1;33m.\u001B[0m\u001B[0mnumpy\u001B[0m\u001B[1;33m(\u001B[0m\u001B[1;33m)\u001B[0m\u001B[1;33m\u001B[0m\u001B[1;33m\u001B[0m\u001B[0m\n\u001B[0m\u001B[0;32m      8\u001B[0m \u001B[0mprint\u001B[0m\u001B[1;33m(\u001B[0m\u001B[1;34m\"Passed!\"\u001B[0m\u001B[1;33m)\u001B[0m\u001B[1;33m\u001B[0m\u001B[1;33m\u001B[0m\u001B[0m\n",
      "\u001B[1;31mAssertionError\u001B[0m: "
     ]
    }
   ],
   "source": [
    "prime_numbers =tf.constant([2, 3, 5, 7, 11, 13, 17, 19, 23])\n",
    "\n",
    "# Put your answer here, complete the definition of Tensor `diff`\n",
    "# You may want to use tf.square and tf.abs\n",
    "diffs = tf.zeros_like(prime_numbers)\n",
    "\n",
    "assert tf.math.reduce_all(diffs == tf.constant([5,  16,  24,  72,  48, 120,  72, 168, 312])).numpy()\n",
    "print(\"Passed!\")"
   ]
  },
  {
   "cell_type": "markdown",
   "metadata": {
    "colab_type": "text",
    "id": "UBaCbGCj6BVV"
   },
   "source": [
    "Solution:\n",
    "\n"
   ]
  },
  {
   "cell_type": "code",
   "execution_count": 3,
   "metadata": {
    "cellView": "both",
    "colab": {},
    "colab_type": "code",
    "id": "diqfNkl26BVI"
   },
   "outputs": [
    {
     "name": "stdout",
     "output_type": "stream",
     "text": [
      "Passed\n"
     ]
    }
   ],
   "source": [
    "prime_numbers = tf.constant([2, 3, 5, 7, 11, 13, 17, 19, 23])\n",
    "\n",
    "shifted_prime_numbers = tf.concat([prime_numbers[1:], [29]], axis=0)\n",
    "\n",
    "# Put your answer here, complete the definition of Tensor `diff`\n",
    "diffs = tf.abs(tf.square(prime_numbers) - tf.square(shifted_prime_numbers))\n",
    "\n",
    "assert tf.math.reduce_all(diffs == tf.constant([5,  16,  24,  72,  48, 120,  72, 168, 312])).numpy()\n",
    "print(\"Passed\")"
   ]
  },
  {
   "cell_type": "markdown",
   "metadata": {
    "colab_type": "text",
    "id": "0mw5Gp8Lp9gG"
   },
   "source": [
    "### Exercise #2: Simulate 10 throwings of one die and one coin.\n",
    "Perform this simulation, and store its result in a `[10, 3]` shaped int32 tensor. Each row belongs to one simulation (that is, one roll of a six-sided die and one flip of a coin). The definition of each column is as follows:\n",
    "*   Column 1: the result of throwing the coin.\n",
    "*   Column 2: the result of throwing the die.\n",
    "*   Column 3: if we have head and the roll's result is bigger than 3, then it should be `1`, otherwise it should be `0`)\n",
    "\n",
    "For example, one of the rows might be something like  `[1, 4, 1]`"
   ]
  },
  {
   "cell_type": "code",
   "execution_count": null,
   "metadata": {
    "colab": {},
    "colab_type": "code",
    "id": "6ERImAmIs_Zj"
   },
   "outputs": [],
   "source": [
    "# Write your answer here. \n",
    "# Complete the implementation of `simulation_result` tensor\n",
    "# You may need to use tf.math.greater and tf.math.equal \n",
    "\n",
    "simulation_result = tf.zeros(shape=(10, 3), dtype=tf.int32)\n",
    "simulation_result"
   ]
  },
  {
   "cell_type": "markdown",
   "metadata": {
    "colab_type": "text",
    "id": "LpctTThq6B0J"
   },
   "source": [
    "Solution"
   ]
  },
  {
   "cell_type": "code",
   "execution_count": null,
   "metadata": {
    "cellView": "both",
    "colab": {
     "base_uri": "https://localhost:8080/",
     "height": 204
    },
    "colab_type": "code",
    "id": "SY6crawR6Bz-",
    "outputId": "9e0da1ad-23c0-4715-d173-7109c6bb6352"
   },
   "outputs": [
    {
     "data": {
      "text/plain": [
       "<tf.Tensor: shape=(10, 3), dtype=int32, numpy=\n",
       "array([[0, 1, 0],\n",
       "       [0, 5, 0],\n",
       "       [0, 4, 0],\n",
       "       [1, 5, 1],\n",
       "       [1, 5, 1],\n",
       "       [1, 2, 0],\n",
       "       [1, 2, 0],\n",
       "       [1, 4, 1],\n",
       "       [1, 3, 0],\n",
       "       [0, 4, 0]], dtype=int32)>"
      ]
     },
     "execution_count": 3,
     "metadata": {
      "tags": []
     },
     "output_type": "execute_result"
    }
   ],
   "source": [
    "coin_flip = tf.random.uniform([10, 1], maxval=2, dtype=tf.int32)\n",
    "die_roll = tf.random.uniform([10, 1], minval=1, maxval=7, dtype=tf.int32)\n",
    "\n",
    "die_is_bigger_than = tf.cast(tf.math.greater(die_roll, 3), tf.int32)\n",
    "success = tf.cast(tf.math.equal(die_is_bigger_than + coin_flip, 2), tf.int32)\n",
    "\n",
    "simulation_result = tf.concat([coin_flip, die_roll, success], axis=1)\n",
    "simulation_result"
   ]
  },
  {
   "cell_type": "markdown",
   "metadata": {
    "colab_type": "text",
    "id": "-ubj0ByCwVqs"
   },
   "source": [
    "### Exercise #3: Normalized Euclidean Distance \n",
    "\n",
    "Suppose that we have two sets of d-dimensional vectors. Our goal is to calculate the normalized euclidean distance between each vector of these two sets. That is, given $S_1 \\in R^{m \\times d}$ and $S_1 \\in R^{n \\times d}$, we want to calculate the $X \\in R^{m \\times n}$. Euclidean distance between two vector V and W is calculated as follows:\n",
    "\n",
    "$$\n",
    "dist = \\sqrt{(V_1 - W_1)^2 + ... +\\:(W_d - W_d)^2}\n",
    "$$\n",
    "\n",
    "Please note that we want to calculate the normalized distance, which is within the [0, 1] range. Therefore, you should normalize the similarity scores across each row."
   ]
  },
  {
   "cell_type": "code",
   "execution_count": null,
   "metadata": {
    "colab": {},
    "colab_type": "code",
    "id": "NhJU8za529IS"
   },
   "outputs": [],
   "source": [
    "def euclidean_norm_distance(v, w):\n",
    "  # Write implementation here. \n",
    "  raise NotImplemented()"
   ]
  },
  {
   "cell_type": "code",
   "execution_count": null,
   "metadata": {
    "colab": {
     "base_uri": "https://localhost:8080/",
     "height": 34
    },
    "colab_type": "code",
    "id": "v4Vr57j_3ez2",
    "outputId": "9cf3464b-2e8b-4ea5-e9ea-280004e153ec"
   },
   "outputs": [
    {
     "name": "stdout",
     "output_type": "stream",
     "text": [
      "Passed!\n"
     ]
    }
   ],
   "source": [
    "t1 = tf.constant([[-1.8897635 ,  0.7396171 ,  0.4683413 ,  2.35642   , -0.8153529 ],\n",
    "       [ 1.3100415 ,  0.6090922 ,  0.70573515,  0.07053893, -0.20450763],\n",
    "       [-0.14293706, -0.94566655,  0.41517866,  0.9539284 , -0.9522885 ]])\n",
    "t2 = tf.constant([[ 0.4980808 ,  0.12677321, -1.6533084 ,  1.2168828 ,  0.351612  ],\n",
    "       [-0.35999015, -1.013327  , -1.4144444 ,  0.83520454,  1.4889846 ]])\n",
    "\n",
    "answer = tf.constant([[0.4718873, 0.5281127 ],\n",
    " [0.43739235, 0.5626077 ],\n",
    " [0.47395885, 0.52604115]])\n",
    "\n",
    "assert np.allclose(euclidean_norm_distance(t1, t2).numpy(), answer)\n",
    "print(\"Passed!\")"
   ]
  },
  {
   "cell_type": "markdown",
   "metadata": {
    "colab_type": "text",
    "id": "aJyYTXGd6B8v"
   },
   "source": [
    "Solution"
   ]
  },
  {
   "cell_type": "code",
   "execution_count": null,
   "metadata": {
    "cellView": "both",
    "colab": {},
    "colab_type": "code",
    "id": "5cbt5yda6B8q"
   },
   "outputs": [],
   "source": [
    "def euclidean_norm_distance(v, w):\n",
    "  # v = (3, 5)\n",
    "  # w = (2, 5)\n",
    "  n = tf.shape(v)[0] # 3\n",
    "  m = tf.shape(w)[0] # 2\n",
    "\n",
    "  v = tf.tile(tf.expand_dims(v, 1), [1, m, 1]) # (n, m, d)\n",
    "  w = tf.tile(tf.expand_dims(w, 1), [1, n, 1]) # (m, n, d)\n",
    "  w = tf.transpose(w, [1, 0, 2]) # (n, m, d)\n",
    "\n",
    "  distances = (v - w) # (n, m, d)\n",
    "  distances = distances ** 2 # (n, m, d)\n",
    "  distances = tf.math.reduce_sum(distances, axis=2) # (n, m)\n",
    "  distances = tf.math.sqrt(distances) # (n, m)\n",
    "\n",
    "  sum_distances = tf.reshape(tf.math.reduce_sum(distances, axis=1), [-1, 1]) # (n, 1)\n",
    "  distances = distances / sum_distances # (n, m)\n",
    "\n",
    "  return distances"
   ]
  }
 ],
 "metadata": {
  "accelerator": "GPU",
  "colab": {
   "collapsed_sections": [],
   "include_colab_link": true,
   "name": "part_01_solutions.ipynb",
   "provenance": []
  },
  "kernelspec": {
   "display_name": "Python 3",
   "name": "python3"
  },
  "language_info": {
   "codemirror_mode": {
    "name": "ipython",
    "version": 3
   },
   "file_extension": ".py",
   "mimetype": "text/x-python",
   "name": "python",
   "nbconvert_exporter": "python",
   "pygments_lexer": "ipython3",
   "version": "3.7.7"
  }
 },
 "nbformat": 4,
 "nbformat_minor": 0
}